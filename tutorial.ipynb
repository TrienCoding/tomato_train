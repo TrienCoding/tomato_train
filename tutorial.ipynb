{
  "nbformat": 4,
  "nbformat_minor": 0,
  "metadata": {
    "colab": {
      "name": "YOLOv5 Tutorial",
      "provenance": []
    },
    "kernelspec": {
      "name": "python3",
      "display_name": "Python 3"
    },
    "accelerator": "GPU"
  },
  "cells": [
    {
      "cell_type": "markdown",
      "source": [
        "# Kết nối với **GOOGLE DRIVE** 📩\n",
        "\n",
        "\n"
      ],
      "metadata": {
        "id": "fyaLPU9cVI8u"
      }
    },
    {
      "cell_type": "code",
      "source": [
        "from google.colab import drive\n",
        "drive.mount('/content/drive')"
      ],
      "metadata": {
        "id": "H4ObrI25UdGJ",
        "outputId": "8988d9a8-d2a8-4e8f-8ccb-7cc9b7d18694",
        "colab": {
          "base_uri": "https://localhost:8080/"
        }
      },
      "execution_count": 3,
      "outputs": [
        {
          "output_type": "stream",
          "name": "stdout",
          "text": [
            "Drive already mounted at /content/drive; to attempt to forcibly remount, call drive.mount(\"/content/drive\", force_remount=True).\n"
          ]
        }
      ]
    },
    {
      "cell_type": "markdown",
      "source": [
        "# Download **YOLOV5**"
      ],
      "metadata": {
        "id": "E7D46IVIVvvI"
      }
    },
    {
      "cell_type": "code",
      "metadata": {
        "id": "wbvMlHd_QwMG",
        "colab": {
          "base_uri": "https://localhost:8080/"
        },
        "outputId": "e8225db4-e61d-4640-8b1f-8bfce3331cea"
      },
      "source": [
        "!git clone https://github.com/ultralytics/yolov5  # clone\n",
        "%cd yolov5\n",
        "%pip install -qr requirements.txt comet_ml  # install\n",
        "\n",
        "import torch\n",
        "import utils\n",
        "display = utils.notebook_init()  # checks"
      ],
      "execution_count": null,
      "outputs": [
        {
          "output_type": "stream",
          "name": "stderr",
          "text": [
            "YOLOv5 🚀 v7.0-136-g71244ae Python-3.9.16 torch-2.0.0+cu118 CUDA:0 (Tesla T4, 15102MiB)\n"
          ]
        },
        {
          "output_type": "stream",
          "name": "stdout",
          "text": [
            "Setup complete ✅ (2 CPUs, 12.7 GB RAM, 23.3/166.8 GB disk)\n"
          ]
        }
      ]
    },
    {
      "cell_type": "markdown",
      "metadata": {
        "id": "4JnkELT0cIJg"
      },
      "source": [
        "# Giải nén File đã gán nhãn\n",
        "# **Lưu ý**:\n",
        "1) Đặt tên file là coco128\n",
        "\n",
        "2) Trong file coco128 có 2 file nhỏ là images và Labels\n",
        "\n",
        "3) định dạng file coco128 là file .rar\n"
      ]
    },
    {
      "cell_type": "code",
      "source": [
        "!unrar x /content/coco128.rar"
      ],
      "metadata": {
        "id": "ad7yJCEdZQ3Z"
      },
      "execution_count": null,
      "outputs": []
    },
    {
      "cell_type": "markdown",
      "source": [
        "#"
      ],
      "metadata": {
        "id": "f5XyxI6hZhh-"
      }
    },
    {
      "cell_type": "markdown",
      "source": [
        "# Train mô hình 🚀\n",
        "\n",
        "**Trong file data/coco128.yaml**\n",
        "\n",
        "train: /content/coco128\n",
        "\n",
        "val: /content/coco128\n",
        "\n",
        "test: # test images (Optional)\n",
        "\n",
        "*#* classes\n",
        "\n",
        "nc: 1 # number pf classes\n",
        "\n",
        "names: ['tomato_red', 'tomato_yellow', 'tomato_green' ]  # class names\n",
        "\n",
        "\n"
      ],
      "metadata": {
        "id": "N9Jui1recd5w"
      }
    },
    {
      "cell_type": "code",
      "source": [
        "!python /content/yolov5/train.py --img 2560 --batch 12 --epochs 5 --data coco128.yaml --weights yolov5s.pt"
      ],
      "metadata": {
        "id": "-31yCtKwfE0g"
      },
      "execution_count": null,
      "outputs": []
    }
  ]
}